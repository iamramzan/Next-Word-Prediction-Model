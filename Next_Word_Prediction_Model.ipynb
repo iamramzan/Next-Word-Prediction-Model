{
  "nbformat": 4,
  "nbformat_minor": 0,
  "metadata": {
    "colab": {
      "provenance": [],
      "gpuType": "T4"
    },
    "kernelspec": {
      "name": "python3",
      "display_name": "Python 3"
    },
    "language_info": {
      "name": "python"
    },
    "accelerator": "GPU"
  },
  "cells": [
    {
      "cell_type": "markdown",
      "source": [
        "## Next Word Prediction Model"
      ],
      "metadata": {
        "id": "HtZyTn2XoEfq"
      }
    },
    {
      "cell_type": "markdown",
      "source": [
        "## importing packages and dataset"
      ],
      "metadata": {
        "id": "PmivmigxoRq9"
      }
    },
    {
      "cell_type": "code",
      "execution_count": 3,
      "metadata": {
        "id": "6o1qFpdFcYoR"
      },
      "outputs": [],
      "source": [
        "import numpy as np\n",
        "import tensorflow as tf\n",
        "from tensorflow.keras.preprocessing.text import Tokenizer\n",
        "from tensorflow.keras.preprocessing.sequence import pad_sequences\n",
        "from tensorflow.keras.models import Sequential\n",
        "from tensorflow.keras.layers import Embedding, LSTM, Dense\n",
        "\n",
        "# Read the text file\n",
        "with open('sherlock-holm.es_stories_plain-text_advs.txt', 'r', encoding='utf-8') as file:\n",
        "    text = file.read()"
      ]
    },
    {
      "cell_type": "markdown",
      "source": [
        "## tokenize the text"
      ],
      "metadata": {
        "id": "WqZq27NtoM_m"
      }
    },
    {
      "cell_type": "code",
      "source": [
        "tokenizer = Tokenizer()\n",
        "tokenizer.fit_on_texts([text])\n",
        "total_words = len(tokenizer.word_index) + 1"
      ],
      "metadata": {
        "id": "B5h8dKnCccO3"
      },
      "execution_count": 4,
      "outputs": []
    },
    {
      "cell_type": "markdown",
      "source": [
        "## create input-output pairs by splitting the text into sequences of tokens"
      ],
      "metadata": {
        "id": "z4ZF2cuMoX1F"
      }
    },
    {
      "cell_type": "code",
      "source": [
        "input_sequences = []\n",
        "for line in text.split('\\n'):\n",
        "    token_list = tokenizer.texts_to_sequences([line])[0]\n",
        "    for i in range(1, len(token_list)):\n",
        "        n_gram_sequence = token_list[:i+1]\n",
        "        input_sequences.append(n_gram_sequence)"
      ],
      "metadata": {
        "id": "-O7e0_kOccRp"
      },
      "execution_count": 5,
      "outputs": []
    },
    {
      "cell_type": "markdown",
      "source": [
        "## pad the input sequences"
      ],
      "metadata": {
        "id": "wko1EfJKoeA9"
      }
    },
    {
      "cell_type": "code",
      "source": [
        "max_sequence_len = max([len(seq) for seq in input_sequences])\n",
        "input_sequences = np.array(pad_sequences(input_sequences, maxlen=max_sequence_len, padding='pre'))"
      ],
      "metadata": {
        "id": "T5kPCvJKccUh"
      },
      "execution_count": 6,
      "outputs": []
    },
    {
      "cell_type": "markdown",
      "source": [
        "## split the sequences into input and output"
      ],
      "metadata": {
        "id": "cDIy5fa2oj9Z"
      }
    },
    {
      "cell_type": "code",
      "source": [
        "X = input_sequences[:, :-1]\n",
        "y = input_sequences[:, -1]"
      ],
      "metadata": {
        "id": "lDQB8J8xccXY"
      },
      "execution_count": 7,
      "outputs": []
    },
    {
      "cell_type": "markdown",
      "source": [
        "## convert the output to one-hot encode vectors"
      ],
      "metadata": {
        "id": "yc1BE0wdooAP"
      }
    },
    {
      "cell_type": "code",
      "source": [
        "y = np.array(tf.keras.utils.to_categorical(y, num_classes=total_words))"
      ],
      "metadata": {
        "id": "yMY0X8zbccaO"
      },
      "execution_count": 8,
      "outputs": []
    },
    {
      "cell_type": "markdown",
      "source": [
        "## build a neural network architecture"
      ],
      "metadata": {
        "id": "k_Pqw9etosfn"
      }
    },
    {
      "cell_type": "code",
      "source": [
        "model = Sequential()\n",
        "model.add(Embedding(total_words, 100, input_length=max_sequence_len-1))\n",
        "model.add(LSTM(150))\n",
        "model.add(Dense(total_words, activation='softmax'))\n",
        "print(model.summary())"
      ],
      "metadata": {
        "colab": {
          "base_uri": "https://localhost:8080/"
        },
        "id": "861TIx3ed-IN",
        "outputId": "955ba20e-2bf4-44a4-d584-a1bca4f36147"
      },
      "execution_count": 9,
      "outputs": [
        {
          "output_type": "stream",
          "name": "stdout",
          "text": [
            "Model: \"sequential\"\n",
            "_________________________________________________________________\n",
            " Layer (type)                Output Shape              Param #   \n",
            "=================================================================\n",
            " embedding (Embedding)       (None, 17, 100)           820000    \n",
            "                                                                 \n",
            " lstm (LSTM)                 (None, 150)               150600    \n",
            "                                                                 \n",
            " dense (Dense)               (None, 8200)              1238200   \n",
            "                                                                 \n",
            "=================================================================\n",
            "Total params: 2208800 (8.43 MB)\n",
            "Trainable params: 2208800 (8.43 MB)\n",
            "Non-trainable params: 0 (0.00 Byte)\n",
            "_________________________________________________________________\n",
            "None\n"
          ]
        }
      ]
    },
    {
      "cell_type": "markdown",
      "source": [
        "## compile and train the model"
      ],
      "metadata": {
        "id": "TtTfg3dVowmn"
      }
    },
    {
      "cell_type": "code",
      "source": [
        "model.compile(loss='categorical_crossentropy', optimizer='adam', metrics=['accuracy'])\n",
        "model.fit(X, y, epochs=100, verbose=1)"
      ],
      "metadata": {
        "colab": {
          "base_uri": "https://localhost:8080/"
        },
        "id": "o8M21Rsld-K0",
        "outputId": "dfd82cda-7a73-4abd-a932-3c0a31f91bc1"
      },
      "execution_count": 10,
      "outputs": [
        {
          "output_type": "stream",
          "name": "stdout",
          "text": [
            "Epoch 1/100\n",
            "3010/3010 [==============================] - 37s 11ms/step - loss: 6.2526 - accuracy: 0.0754\n",
            "Epoch 2/100\n",
            "3010/3010 [==============================] - 22s 7ms/step - loss: 5.5413 - accuracy: 0.1214\n",
            "Epoch 3/100\n",
            "3010/3010 [==============================] - 20s 7ms/step - loss: 5.1460 - accuracy: 0.1455\n",
            "Epoch 4/100\n",
            "3010/3010 [==============================] - 21s 7ms/step - loss: 4.8104 - accuracy: 0.1638\n",
            "Epoch 5/100\n",
            "3010/3010 [==============================] - 21s 7ms/step - loss: 4.5052 - accuracy: 0.1836\n",
            "Epoch 6/100\n",
            "3010/3010 [==============================] - 20s 7ms/step - loss: 4.2143 - accuracy: 0.2020\n",
            "Epoch 7/100\n",
            "3010/3010 [==============================] - 21s 7ms/step - loss: 3.9382 - accuracy: 0.2273\n",
            "Epoch 8/100\n",
            "3010/3010 [==============================] - 21s 7ms/step - loss: 3.6795 - accuracy: 0.2593\n",
            "Epoch 9/100\n",
            "3010/3010 [==============================] - 20s 7ms/step - loss: 3.4360 - accuracy: 0.2910\n",
            "Epoch 10/100\n",
            "3010/3010 [==============================] - 23s 8ms/step - loss: 3.2077 - accuracy: 0.3253\n",
            "Epoch 11/100\n",
            "3010/3010 [==============================] - 21s 7ms/step - loss: 2.9977 - accuracy: 0.3604\n",
            "Epoch 12/100\n",
            "3010/3010 [==============================] - 20s 7ms/step - loss: 2.8024 - accuracy: 0.3959\n",
            "Epoch 13/100\n",
            "3010/3010 [==============================] - 21s 7ms/step - loss: 2.6251 - accuracy: 0.4290\n",
            "Epoch 14/100\n",
            "3010/3010 [==============================] - 21s 7ms/step - loss: 2.4587 - accuracy: 0.4616\n",
            "Epoch 15/100\n",
            "3010/3010 [==============================] - 21s 7ms/step - loss: 2.3069 - accuracy: 0.4909\n",
            "Epoch 16/100\n",
            "3010/3010 [==============================] - 21s 7ms/step - loss: 2.1688 - accuracy: 0.5201\n",
            "Epoch 17/100\n",
            "3010/3010 [==============================] - 21s 7ms/step - loss: 2.0407 - accuracy: 0.5466\n",
            "Epoch 18/100\n",
            "3010/3010 [==============================] - 20s 7ms/step - loss: 1.9244 - accuracy: 0.5717\n",
            "Epoch 19/100\n",
            "3010/3010 [==============================] - 21s 7ms/step - loss: 1.8178 - accuracy: 0.5920\n",
            "Epoch 20/100\n",
            "3010/3010 [==============================] - 21s 7ms/step - loss: 1.7181 - accuracy: 0.6151\n",
            "Epoch 21/100\n",
            "3010/3010 [==============================] - 20s 7ms/step - loss: 1.6281 - accuracy: 0.6332\n",
            "Epoch 22/100\n",
            "3010/3010 [==============================] - 21s 7ms/step - loss: 1.5439 - accuracy: 0.6523\n",
            "Epoch 23/100\n",
            "3010/3010 [==============================] - 20s 7ms/step - loss: 1.4692 - accuracy: 0.6686\n",
            "Epoch 24/100\n",
            "3010/3010 [==============================] - 20s 7ms/step - loss: 1.3988 - accuracy: 0.6834\n",
            "Epoch 25/100\n",
            "3010/3010 [==============================] - 20s 7ms/step - loss: 1.3357 - accuracy: 0.6977\n",
            "Epoch 26/100\n",
            "3010/3010 [==============================] - 20s 7ms/step - loss: 1.2764 - accuracy: 0.7108\n",
            "Epoch 27/100\n",
            "3010/3010 [==============================] - 20s 7ms/step - loss: 1.2208 - accuracy: 0.7231\n",
            "Epoch 28/100\n",
            "3010/3010 [==============================] - 20s 7ms/step - loss: 1.1726 - accuracy: 0.7338\n",
            "Epoch 29/100\n",
            "3010/3010 [==============================] - 20s 7ms/step - loss: 1.1246 - accuracy: 0.7456\n",
            "Epoch 30/100\n",
            "3010/3010 [==============================] - 20s 7ms/step - loss: 1.0805 - accuracy: 0.7540\n",
            "Epoch 31/100\n",
            "3010/3010 [==============================] - 20s 7ms/step - loss: 1.0415 - accuracy: 0.7629\n",
            "Epoch 32/100\n",
            "3010/3010 [==============================] - 20s 7ms/step - loss: 1.0077 - accuracy: 0.7691\n",
            "Epoch 33/100\n",
            "3010/3010 [==============================] - 20s 7ms/step - loss: 0.9733 - accuracy: 0.7775\n",
            "Epoch 34/100\n",
            "3010/3010 [==============================] - 20s 7ms/step - loss: 0.9408 - accuracy: 0.7850\n",
            "Epoch 35/100\n",
            "3010/3010 [==============================] - 20s 7ms/step - loss: 0.9134 - accuracy: 0.7901\n",
            "Epoch 36/100\n",
            "3010/3010 [==============================] - 20s 7ms/step - loss: 0.8838 - accuracy: 0.7960\n",
            "Epoch 37/100\n",
            "3010/3010 [==============================] - 20s 7ms/step - loss: 0.8612 - accuracy: 0.8011\n",
            "Epoch 38/100\n",
            "3010/3010 [==============================] - 20s 7ms/step - loss: 0.8361 - accuracy: 0.8064\n",
            "Epoch 39/100\n",
            "3010/3010 [==============================] - 19s 6ms/step - loss: 0.8183 - accuracy: 0.8097\n",
            "Epoch 40/100\n",
            "3010/3010 [==============================] - 20s 7ms/step - loss: 0.7971 - accuracy: 0.8139\n",
            "Epoch 41/100\n",
            "3010/3010 [==============================] - 20s 7ms/step - loss: 0.7784 - accuracy: 0.8179\n",
            "Epoch 42/100\n",
            "3010/3010 [==============================] - 20s 6ms/step - loss: 0.7615 - accuracy: 0.8217\n",
            "Epoch 43/100\n",
            "3010/3010 [==============================] - 20s 7ms/step - loss: 0.7474 - accuracy: 0.8244\n",
            "Epoch 44/100\n",
            "3010/3010 [==============================] - 20s 7ms/step - loss: 0.7305 - accuracy: 0.8283\n",
            "Epoch 45/100\n",
            "3010/3010 [==============================] - 20s 7ms/step - loss: 0.7157 - accuracy: 0.8316\n",
            "Epoch 46/100\n",
            "3010/3010 [==============================] - 21s 7ms/step - loss: 0.7040 - accuracy: 0.8334\n",
            "Epoch 47/100\n",
            "3010/3010 [==============================] - 20s 7ms/step - loss: 0.6914 - accuracy: 0.8360\n",
            "Epoch 48/100\n",
            "3010/3010 [==============================] - 21s 7ms/step - loss: 0.6810 - accuracy: 0.8377\n",
            "Epoch 49/100\n",
            "3010/3010 [==============================] - 20s 7ms/step - loss: 0.6712 - accuracy: 0.8397\n",
            "Epoch 50/100\n",
            "3010/3010 [==============================] - 20s 7ms/step - loss: 0.6586 - accuracy: 0.8432\n",
            "Epoch 51/100\n",
            "3010/3010 [==============================] - 20s 7ms/step - loss: 0.6530 - accuracy: 0.8430\n",
            "Epoch 52/100\n",
            "3010/3010 [==============================] - 20s 6ms/step - loss: 0.6445 - accuracy: 0.8453\n",
            "Epoch 53/100\n",
            "3010/3010 [==============================] - 20s 7ms/step - loss: 0.6340 - accuracy: 0.8473\n",
            "Epoch 54/100\n",
            "3010/3010 [==============================] - 21s 7ms/step - loss: 0.6262 - accuracy: 0.8489\n",
            "Epoch 55/100\n",
            "3010/3010 [==============================] - 20s 7ms/step - loss: 0.6220 - accuracy: 0.8493\n",
            "Epoch 56/100\n",
            "3010/3010 [==============================] - 21s 7ms/step - loss: 0.6130 - accuracy: 0.8516\n",
            "Epoch 57/100\n",
            "3010/3010 [==============================] - 21s 7ms/step - loss: 0.6088 - accuracy: 0.8524\n",
            "Epoch 58/100\n",
            "3010/3010 [==============================] - 20s 7ms/step - loss: 0.6016 - accuracy: 0.8526\n",
            "Epoch 59/100\n",
            "3010/3010 [==============================] - 21s 7ms/step - loss: 0.5971 - accuracy: 0.8544\n",
            "Epoch 60/100\n",
            "3010/3010 [==============================] - 20s 7ms/step - loss: 0.5903 - accuracy: 0.8546\n",
            "Epoch 61/100\n",
            "3010/3010 [==============================] - 20s 7ms/step - loss: 0.5899 - accuracy: 0.8542\n",
            "Epoch 62/100\n",
            "3010/3010 [==============================] - 20s 7ms/step - loss: 0.5795 - accuracy: 0.8576\n",
            "Epoch 63/100\n",
            "3010/3010 [==============================] - 20s 7ms/step - loss: 0.5788 - accuracy: 0.8573\n",
            "Epoch 64/100\n",
            "3010/3010 [==============================] - 21s 7ms/step - loss: 0.5707 - accuracy: 0.8590\n",
            "Epoch 65/100\n",
            "3010/3010 [==============================] - 21s 7ms/step - loss: 0.5727 - accuracy: 0.8585\n",
            "Epoch 66/100\n",
            "3010/3010 [==============================] - 20s 7ms/step - loss: 0.5648 - accuracy: 0.8604\n",
            "Epoch 67/100\n",
            "3010/3010 [==============================] - 21s 7ms/step - loss: 0.5682 - accuracy: 0.8581\n",
            "Epoch 68/100\n",
            "3010/3010 [==============================] - 21s 7ms/step - loss: 0.5616 - accuracy: 0.8600\n",
            "Epoch 69/100\n",
            "3010/3010 [==============================] - 20s 7ms/step - loss: 0.5541 - accuracy: 0.8625\n",
            "Epoch 70/100\n",
            "3010/3010 [==============================] - 20s 7ms/step - loss: 0.5523 - accuracy: 0.8613\n",
            "Epoch 71/100\n",
            "3010/3010 [==============================] - 20s 7ms/step - loss: 0.5508 - accuracy: 0.8618\n",
            "Epoch 72/100\n",
            "3010/3010 [==============================] - 20s 7ms/step - loss: 0.5513 - accuracy: 0.8607\n",
            "Epoch 73/100\n",
            "3010/3010 [==============================] - 20s 7ms/step - loss: 0.5450 - accuracy: 0.8633\n",
            "Epoch 74/100\n",
            "3010/3010 [==============================] - 20s 7ms/step - loss: 0.5477 - accuracy: 0.8612\n",
            "Epoch 75/100\n",
            "3010/3010 [==============================] - 20s 7ms/step - loss: 0.5402 - accuracy: 0.8636\n",
            "Epoch 76/100\n",
            "3010/3010 [==============================] - 20s 7ms/step - loss: 0.5414 - accuracy: 0.8628\n",
            "Epoch 77/100\n",
            "3010/3010 [==============================] - 20s 7ms/step - loss: 0.5309 - accuracy: 0.8653\n",
            "Epoch 78/100\n",
            "3010/3010 [==============================] - 21s 7ms/step - loss: 0.5380 - accuracy: 0.8634\n",
            "Epoch 79/100\n",
            "3010/3010 [==============================] - 20s 7ms/step - loss: 0.5351 - accuracy: 0.8636\n",
            "Epoch 80/100\n",
            "3010/3010 [==============================] - 20s 7ms/step - loss: 0.5319 - accuracy: 0.8638\n",
            "Epoch 81/100\n",
            "3010/3010 [==============================] - 20s 7ms/step - loss: 0.5305 - accuracy: 0.8649\n",
            "Epoch 82/100\n",
            "3010/3010 [==============================] - 20s 7ms/step - loss: 0.5270 - accuracy: 0.8656\n",
            "Epoch 83/100\n",
            "3010/3010 [==============================] - 20s 7ms/step - loss: 0.5307 - accuracy: 0.8640\n",
            "Epoch 84/100\n",
            "3010/3010 [==============================] - 20s 7ms/step - loss: 0.5249 - accuracy: 0.8655\n",
            "Epoch 85/100\n",
            "3010/3010 [==============================] - 21s 7ms/step - loss: 0.5251 - accuracy: 0.8649\n",
            "Epoch 86/100\n",
            "3010/3010 [==============================] - 22s 7ms/step - loss: 0.5266 - accuracy: 0.8646\n",
            "Epoch 87/100\n",
            "3010/3010 [==============================] - 21s 7ms/step - loss: 0.5210 - accuracy: 0.8658\n",
            "Epoch 88/100\n",
            "3010/3010 [==============================] - 20s 7ms/step - loss: 0.5187 - accuracy: 0.8665\n",
            "Epoch 89/100\n",
            "3010/3010 [==============================] - 21s 7ms/step - loss: 0.5236 - accuracy: 0.8637\n",
            "Epoch 90/100\n",
            "3010/3010 [==============================] - 20s 7ms/step - loss: 0.5206 - accuracy: 0.8650\n",
            "Epoch 91/100\n",
            "3010/3010 [==============================] - 20s 6ms/step - loss: 0.5230 - accuracy: 0.8636\n",
            "Epoch 92/100\n",
            "3010/3010 [==============================] - 20s 7ms/step - loss: 0.5259 - accuracy: 0.8629\n",
            "Epoch 93/100\n",
            "3010/3010 [==============================] - 20s 7ms/step - loss: 0.5172 - accuracy: 0.8652\n",
            "Epoch 94/100\n",
            "3010/3010 [==============================] - 21s 7ms/step - loss: 0.5162 - accuracy: 0.8656\n",
            "Epoch 95/100\n",
            "3010/3010 [==============================] - 21s 7ms/step - loss: 0.5163 - accuracy: 0.8645\n",
            "Epoch 96/100\n",
            "3010/3010 [==============================] - 20s 7ms/step - loss: 0.5109 - accuracy: 0.8661\n",
            "Epoch 97/100\n",
            "3010/3010 [==============================] - 20s 7ms/step - loss: 0.5193 - accuracy: 0.8639\n",
            "Epoch 98/100\n",
            "3010/3010 [==============================] - 20s 7ms/step - loss: 0.5097 - accuracy: 0.8660\n",
            "Epoch 99/100\n",
            "3010/3010 [==============================] - 20s 7ms/step - loss: 0.5099 - accuracy: 0.8669\n",
            "Epoch 100/100\n",
            "3010/3010 [==============================] - 21s 7ms/step - loss: 0.5120 - accuracy: 0.8648\n"
          ]
        },
        {
          "output_type": "execute_result",
          "data": {
            "text/plain": [
              "<keras.src.callbacks.History at 0x784acb237a90>"
            ]
          },
          "metadata": {},
          "execution_count": 10
        }
      ]
    },
    {
      "cell_type": "markdown",
      "source": [
        "## generate the next word predictions"
      ],
      "metadata": {
        "id": "GAGwTWOTo2vI"
      }
    },
    {
      "cell_type": "code",
      "source": [
        "seed_text = \"I love my\"\n",
        "next_words = 2\n",
        "\n",
        "for _ in range(next_words):\n",
        "    token_list = tokenizer.texts_to_sequences([seed_text])[0]\n",
        "    token_list = pad_sequences([token_list], maxlen=max_sequence_len-1, padding='pre')\n",
        "    predicted = np.argmax(model.predict(token_list), axis=-1)\n",
        "    output_word = \"\"\n",
        "    for word, index in tokenizer.word_index.items():\n",
        "        if index == predicted:\n",
        "            output_word = word\n",
        "            break\n",
        "    seed_text += \" \" + output_word\n",
        "\n",
        "print(seed_text)"
      ],
      "metadata": {
        "colab": {
          "base_uri": "https://localhost:8080/"
        },
        "id": "lnOnHQ7Yd-Nh",
        "outputId": "b2b8c372-b374-427b-9471-ad9cc7cea4f2"
      },
      "execution_count": 14,
      "outputs": [
        {
          "output_type": "stream",
          "name": "stdout",
          "text": [
            "1/1 [==============================] - 0s 29ms/step\n",
            "1/1 [==============================] - 0s 29ms/step\n",
            "I love my dear fellow\n"
          ]
        }
      ]
    },
    {
      "cell_type": "code",
      "source": [],
      "metadata": {
        "id": "9XrmTwsMd-QW"
      },
      "execution_count": null,
      "outputs": []
    },
    {
      "cell_type": "code",
      "source": [],
      "metadata": {
        "id": "B6AtU-19d-TB"
      },
      "execution_count": null,
      "outputs": []
    },
    {
      "cell_type": "code",
      "source": [],
      "metadata": {
        "id": "EgyDcBIUd-WZ"
      },
      "execution_count": null,
      "outputs": []
    },
    {
      "cell_type": "code",
      "source": [],
      "metadata": {
        "id": "viL0C0MfccdU"
      },
      "execution_count": null,
      "outputs": []
    }
  ]
}